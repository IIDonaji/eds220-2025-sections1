{
 "cells": [
  {
   "cell_type": "markdown",
   "id": "7b547925-efd0-4ab6-b6a1-6b6335821799",
   "metadata": {},
   "source": [
    "## Water conflict in the Colorado River Basin\n",
    "\n",
    "1. Where was the data collected from??\n",
    "2. During what time frame were the observations in the dataset collected?\n",
    "3. What was the author’s perceived value of this dataset?\n"
   ]
  },
  {
   "cell_type": "code",
   "execution_count": null,
   "id": "7e0cccd6-4a3e-447d-b5fc-33859186324d",
   "metadata": {},
   "outputs": [],
   "source": []
  }
 ],
 "metadata": {
  "kernelspec": {
   "display_name": "EDS220",
   "language": "python",
   "name": "eds220-env"
  },
  "language_info": {
   "codemirror_mode": {
    "name": "ipython",
    "version": 3
   },
   "file_extension": ".py",
   "mimetype": "text/x-python",
   "name": "python",
   "nbconvert_exporter": "python",
   "pygments_lexer": "ipython3",
   "version": "3.11.4"
  }
 },
 "nbformat": 4,
 "nbformat_minor": 5
}
